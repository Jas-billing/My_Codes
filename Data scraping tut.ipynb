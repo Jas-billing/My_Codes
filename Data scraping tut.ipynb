{
 "cells": [
  {
   "cell_type": "code",
   "execution_count": 3,
   "id": "c5dc22b3",
   "metadata": {},
   "outputs": [
    {
     "data": {
      "text/plain": [
       "200"
      ]
     },
     "execution_count": 3,
     "metadata": {},
     "output_type": "execute_result"
    }
   ],
   "source": [
    "import requests\n",
    "home_url = 'https://eoddata.com/stocklist/TSX.htm'   \n",
    "response = requests.get(home_url)     \n",
    "response.status_code"
   ]
  },
  {
   "cell_type": "code",
   "execution_count": 4,
   "id": "adc92cb3",
   "metadata": {},
   "outputs": [
    {
     "data": {
      "text/plain": [
       "111343"
      ]
     },
     "execution_count": 4,
     "metadata": {},
     "output_type": "execute_result"
    }
   ],
   "source": [
    "page_contents = response.text\n",
    "len(page_contents)"
   ]
  },
  {
   "cell_type": "code",
   "execution_count": 16,
   "id": "cfd322d1",
   "metadata": {},
   "outputs": [
    {
     "data": {
      "text/plain": [
       "'\\r\\n\\r\\n<!DOCTYPE html PUBLIC \"-//W3C//DTD XHTML 1.0 Transitional//EN\" \"http://www.w3.org/TR/xhtml1/DTD/xhtml1-transitional.dtd\">\\r\\n<html xmlns=\"http://www.w3.org/1999/xhtml\">\\r\\n<head><link rel=\"stylesheet\" href=\"../styles/jquery-ui-1.10.0.custom.min.css\" type=\"text/css\" /><link rel=\"stylesheet\" href=\"../styles/main.css\" type=\"text/css\" /><link rel=\"stylesheet\" href=\"../styles/button.css\" type=\"text/css\" /><link rel=\"stylesheet\" href=\"../styles/nav.css\" type=\"text/css\" />\\r\\n  <script src=\"/scripts/jquery-1.9.0.min.js\" type=\"text/javascript\"></script>\\r\\n  <script src=\"/scripts/jquery-ui-1.10.0.custom.min.js\" type=\"text/javascript\"></script>\\r\\n\\t<script type=\"text/javascript\">\\t\\tvar _sf_startpt = (new Date()).getTime()</script>\\r\\n\\t<script src=\"https://js.stripe.com/v3/\" type=\"text/javascript\"></script>\\r\\n\\t\\r\\n\\t<script type=\"text/javascript\" src=\"scripts/jquery-1.4.2.min.js\"></script>\\r\\n<meta name=\"keywords\" content=\"list of symbols for Toronto Stock Exchange,list of stock symbols,download symbols,stock '"
      ]
     },
     "execution_count": 16,
     "metadata": {},
     "output_type": "execute_result"
    }
   ],
   "source": [
    "page_contents[:1000]"
   ]
  },
  {
   "cell_type": "code",
   "execution_count": 17,
   "id": "585fc59c",
   "metadata": {},
   "outputs": [
    {
     "data": {
      "text/plain": [
       "bs4.BeautifulSoup"
      ]
     },
     "execution_count": 17,
     "metadata": {},
     "output_type": "execute_result"
    }
   ],
   "source": [
    "from bs4 import BeautifulSoup\n",
    "doc = BeautifulSoup(page_contents, 'html.parser')\n",
    "type(doc)"
   ]
  },
  {
   "cell_type": "code",
   "execution_count": 18,
   "id": "267510b0",
   "metadata": {},
   "outputs": [
    {
     "data": {
      "text/plain": [
       "<title>\n",
       "\tList of Symbols for Toronto Stock Exchange [TSX] Starting with A\n",
       "</title>"
      ]
     },
     "execution_count": 18,
     "metadata": {},
     "output_type": "execute_result"
    }
   ],
   "source": [
    "title = doc.find('title')\n",
    "title"
   ]
  },
  {
   "cell_type": "code",
   "execution_count": 19,
   "id": "8798f31e",
   "metadata": {},
   "outputs": [
    {
     "data": {
      "text/plain": [
       "[<td><a href=\"/stockquote/TSX/AAB.htm\" title=\"Display Quote &amp; Chart for TSX,AAB\">AAB</a></td>,\n",
       " <td>Aberdeen International Inc</td>,\n",
       " <td align=\"right\">0.0900</td>,\n",
       " <td align=\"right\">0.0900</td>,\n",
       " <td align=\"right\">0.0900</td>,\n",
       " <td align=\"right\">10,200</td>,\n",
       " <td align=\"right\">0.0000</td>,\n",
       " <td align=\"center\"><img src=\"/images/nc.gif\"/></td>,\n",
       " <td align=\"left\">0.00</td>,\n",
       " <td align=\"right\"><a href=\"/stockquote/TSX/AAB.htm\" title=\"Download Data for TSX,AAB\"><img height=\"14\" src=\"/images/dl.gif\" width=\"14\"/></a> <a href=\"/stockquote/TSX/AAB.htm\" title=\"View Quote and Chart for TSX,AAB\"><img height=\"14\" src=\"/images/chart.gif\" width=\"14\"/></a></td>]"
      ]
     },
     "execution_count": 19,
     "metadata": {},
     "output_type": "execute_result"
    }
   ],
   "source": [
    "tr_parent1 = doc.find_all('tr',{'class':'ro'})\n",
    "tr_parent2 = doc.find_all('tr',{'class':'re'})\n",
    "len(tr_parent1)+len(tr_parent2)\n",
    "td_child1 = tr_parent1[0].find_all('td')\n",
    "td_child1"
   ]
  },
  {
   "cell_type": "code",
   "execution_count": 21,
   "id": "fa24bb84",
   "metadata": {},
   "outputs": [
    {
     "data": {
      "text/html": [
       "<div>\n",
       "<style scoped>\n",
       "    .dataframe tbody tr th:only-of-type {\n",
       "        vertical-align: middle;\n",
       "    }\n",
       "\n",
       "    .dataframe tbody tr th {\n",
       "        vertical-align: top;\n",
       "    }\n",
       "\n",
       "    .dataframe thead th {\n",
       "        text-align: right;\n",
       "    }\n",
       "</style>\n",
       "<table border=\"1\" class=\"dataframe\">\n",
       "  <thead>\n",
       "    <tr style=\"text-align: right;\">\n",
       "      <th></th>\n",
       "      <th>Symbol</th>\n",
       "      <th>Name</th>\n",
       "      <th>High</th>\n",
       "      <th>Low</th>\n",
       "      <th>Close</th>\n",
       "      <th>Volume</th>\n",
       "      <th>URL</th>\n",
       "    </tr>\n",
       "  </thead>\n",
       "  <tbody>\n",
       "    <tr>\n",
       "      <th>0</th>\n",
       "      <td>AAB</td>\n",
       "      <td>Aberdeen International Inc</td>\n",
       "      <td>0.09</td>\n",
       "      <td>0.09</td>\n",
       "      <td>0.09</td>\n",
       "      <td>57000</td>\n",
       "      <td>http://eoddata.com//stockquote/TSX/AAB.htm</td>\n",
       "    </tr>\n",
       "    <tr>\n",
       "      <th>1</th>\n",
       "      <td>AAV</td>\n",
       "      <td>Advantage Oil &amp; Gas Ltd</td>\n",
       "      <td>11.67</td>\n",
       "      <td>11.00</td>\n",
       "      <td>11.53</td>\n",
       "      <td>1352657</td>\n",
       "      <td>http://eoddata.com//stockquote/TSX/AAV.htm</td>\n",
       "    </tr>\n",
       "    <tr>\n",
       "      <th>2</th>\n",
       "      <td>ABCT</td>\n",
       "      <td>ABC Technologies Holdings Inc</td>\n",
       "      <td>5.83</td>\n",
       "      <td>5.83</td>\n",
       "      <td>5.83</td>\n",
       "      <td>300</td>\n",
       "      <td>http://eoddata.com//stockquote/TSX/ABCT.htm</td>\n",
       "    </tr>\n",
       "    <tr>\n",
       "      <th>3</th>\n",
       "      <td>ABST</td>\n",
       "      <td>Absolute Software Corp</td>\n",
       "      <td>11.69</td>\n",
       "      <td>11.43</td>\n",
       "      <td>11.53</td>\n",
       "      <td>78713</td>\n",
       "      <td>http://eoddata.com//stockquote/TSX/ABST.htm</td>\n",
       "    </tr>\n",
       "    <tr>\n",
       "      <th>4</th>\n",
       "      <td>ABTC</td>\n",
       "      <td>Accelerate Carbon Negative Bitcoin ETF</td>\n",
       "      <td>2.96</td>\n",
       "      <td>2.96</td>\n",
       "      <td>2.96</td>\n",
       "      <td>100</td>\n",
       "      <td>http://eoddata.com//stockquote/TSX/ABTC.htm</td>\n",
       "    </tr>\n",
       "    <tr>\n",
       "      <th>...</th>\n",
       "      <td>...</td>\n",
       "      <td>...</td>\n",
       "      <td>...</td>\n",
       "      <td>...</td>\n",
       "      <td>...</td>\n",
       "      <td>...</td>\n",
       "      <td>...</td>\n",
       "    </tr>\n",
       "    <tr>\n",
       "      <th>115</th>\n",
       "      <td>AX.PR.I</td>\n",
       "      <td>Artis REIT Pref Series I</td>\n",
       "      <td>25.10</td>\n",
       "      <td>25.05</td>\n",
       "      <td>25.05</td>\n",
       "      <td>600</td>\n",
       "      <td>http://eoddata.com//stockquote/TSX/AX.PR.I.htm</td>\n",
       "    </tr>\n",
       "    <tr>\n",
       "      <th>116</th>\n",
       "      <td>AX.UN</td>\n",
       "      <td>Artis Real Estate Investment Trust Units</td>\n",
       "      <td>13.10</td>\n",
       "      <td>12.91</td>\n",
       "      <td>13.02</td>\n",
       "      <td>363975</td>\n",
       "      <td>http://eoddata.com//stockquote/TSX/AX.UN.htm</td>\n",
       "    </tr>\n",
       "    <tr>\n",
       "      <th>117</th>\n",
       "      <td>AXIS</td>\n",
       "      <td>Axis Auto Finance Inc</td>\n",
       "      <td>0.68</td>\n",
       "      <td>0.67</td>\n",
       "      <td>0.67</td>\n",
       "      <td>50402</td>\n",
       "      <td>http://eoddata.com//stockquote/TSX/AXIS.htm</td>\n",
       "    </tr>\n",
       "    <tr>\n",
       "      <th>118</th>\n",
       "      <td>AXU</td>\n",
       "      <td>Alexco Resource Corp</td>\n",
       "      <td>1.02</td>\n",
       "      <td>0.99</td>\n",
       "      <td>1.02</td>\n",
       "      <td>116594</td>\n",
       "      <td>http://eoddata.com//stockquote/TSX/AXU.htm</td>\n",
       "    </tr>\n",
       "    <tr>\n",
       "      <th>119</th>\n",
       "      <td>AYA</td>\n",
       "      <td>Aya Gold and Silver Inc</td>\n",
       "      <td>7.44</td>\n",
       "      <td>7.15</td>\n",
       "      <td>7.21</td>\n",
       "      <td>127868</td>\n",
       "      <td>http://eoddata.com//stockquote/TSX/AYA.htm</td>\n",
       "    </tr>\n",
       "  </tbody>\n",
       "</table>\n",
       "<p>120 rows × 7 columns</p>\n",
       "</div>"
      ],
      "text/plain": [
       "      Symbol                                      Name   High    Low  Close  \\\n",
       "0        AAB                Aberdeen International Inc   0.09   0.09   0.09   \n",
       "1        AAV                   Advantage Oil & Gas Ltd  11.67  11.00  11.53   \n",
       "2       ABCT             ABC Technologies Holdings Inc   5.83   5.83   5.83   \n",
       "3       ABST                    Absolute Software Corp  11.69  11.43  11.53   \n",
       "4       ABTC    Accelerate Carbon Negative Bitcoin ETF   2.96   2.96   2.96   \n",
       "..       ...                                       ...    ...    ...    ...   \n",
       "115  AX.PR.I                  Artis REIT Pref Series I  25.10  25.05  25.05   \n",
       "116    AX.UN  Artis Real Estate Investment Trust Units  13.10  12.91  13.02   \n",
       "117     AXIS                     Axis Auto Finance Inc   0.68   0.67   0.67   \n",
       "118      AXU                      Alexco Resource Corp   1.02   0.99   1.02   \n",
       "119      AYA                   Aya Gold and Silver Inc   7.44   7.15   7.21   \n",
       "\n",
       "      Volume                                             URL  \n",
       "0      57000      http://eoddata.com//stockquote/TSX/AAB.htm  \n",
       "1    1352657      http://eoddata.com//stockquote/TSX/AAV.htm  \n",
       "2        300     http://eoddata.com//stockquote/TSX/ABCT.htm  \n",
       "3      78713     http://eoddata.com//stockquote/TSX/ABST.htm  \n",
       "4        100     http://eoddata.com//stockquote/TSX/ABTC.htm  \n",
       "..       ...                                             ...  \n",
       "115      600  http://eoddata.com//stockquote/TSX/AX.PR.I.htm  \n",
       "116   363975    http://eoddata.com//stockquote/TSX/AX.UN.htm  \n",
       "117    50402     http://eoddata.com//stockquote/TSX/AXIS.htm  \n",
       "118   116594      http://eoddata.com//stockquote/TSX/AXU.htm  \n",
       "119   127868      http://eoddata.com//stockquote/TSX/AYA.htm  \n",
       "\n",
       "[120 rows x 7 columns]"
      ]
     },
     "execution_count": 21,
     "metadata": {},
     "output_type": "execute_result"
    }
   ],
   "source": [
    "import pandas as pd\n",
    "def parse_document(tr_tag):\n",
    "    \n",
    "    td_tag = tr_tag.find_all('td')\n",
    "    symbol = td_tag[0].find('a').text.strip()\n",
    "    name = td_tag[1].text.strip()\n",
    "    high = td_tag[2].text.strip()\n",
    "    low = td_tag[3].text.strip()\n",
    "    close = td_tag[4].text.strip()\n",
    "    volume = td_tag[5].text.strip().replace(',', '')\n",
    "    url = \"http://eoddata.com/\" + td_tag[0].find('a')['href']\n",
    "    \n",
    "    # Return a dictionary\n",
    "    return {\n",
    "        'Symbol': symbol,\n",
    "        'Name': name,        \n",
    "        'High': high,\n",
    "        'Low': low,\n",
    "        'Close': close,\n",
    "        'Volume': volume,\n",
    "        'URL': url\n",
    "    }  \n",
    "\n",
    "\n",
    "\n",
    "def write_csv(items, path):\n",
    "    # Open the file in write mode\n",
    "    with open(path, 'w') as f:\n",
    "        # Return if there's nothing to write\n",
    "        if len(items) == 0:\n",
    "            return\n",
    "        \n",
    "        # Write the headers in the first line\n",
    "        headers = list(items[0].keys())\n",
    "        f.write(','.join(headers) + '\\n')\n",
    "        \n",
    "        # Write one item per line\n",
    "        for item in items:\n",
    "            values = []\n",
    "            for header in headers:\n",
    "                values.append(str(item.get(header, \"\")))\n",
    "            f.write(','.join(values) + \"\\n\")\n",
    "\n",
    "            \n",
    "def scrap_stockInfo(alpha_list):  \n",
    "    base_url = \"http://eoddata.com/stocklist/TSX/\"\n",
    "    \n",
    "    for i in range(len(alpha_list)):\n",
    "        data_url = base_url + alpha_list[i] +\".htm\"\n",
    "        response = requests.get(data_url)\n",
    "        page_contents = response.text\n",
    "        doc = BeautifulSoup(page_contents, 'html.parser')\n",
    "        tr_tags1 = doc.find_all('tr',{'class':'ro'})\n",
    "        tr_tags2 = doc.find_all('tr',{'class':'re'})\n",
    "        all_records_1 = [parse_document(tag) for tag in tr_tags1]\n",
    "        all_records_2 = [parse_document(tag) for tag in tr_tags2]\n",
    "        all_records = [item for sublist in zip(all_records_1, all_records_2) for item in sublist]\n",
    "        \n",
    "        file_name = alpha_list[i] + \".csv\"\n",
    "        write_csv(all_records,file_name)\n",
    "\n",
    "alpha_list = ['A','B','C','D','E','F','G','H']\n",
    "scrap_stockInfo(alpha_list)\n",
    "pd.read_csv('A.csv')\n"
   ]
  },
  {
   "cell_type": "code",
   "execution_count": null,
   "id": "90ef6bea",
   "metadata": {},
   "outputs": [],
   "source": []
  }
 ],
 "metadata": {
  "kernelspec": {
   "display_name": "Python 3 (ipykernel)",
   "language": "python",
   "name": "python3"
  },
  "language_info": {
   "codemirror_mode": {
    "name": "ipython",
    "version": 3
   },
   "file_extension": ".py",
   "mimetype": "text/x-python",
   "name": "python",
   "nbconvert_exporter": "python",
   "pygments_lexer": "ipython3",
   "version": "3.9.12"
  }
 },
 "nbformat": 4,
 "nbformat_minor": 5
}
