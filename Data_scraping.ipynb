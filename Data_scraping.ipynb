{
 "cells": [
  {
   "cell_type": "code",
   "execution_count": 5,
   "id": "46a01e12",
   "metadata": {},
   "outputs": [],
   "source": [
    "import requests\n",
    "stockcode = \"AAPL\"\n",
    "url = 'https://www.marketwatch.com/investing/stock/aapl?mod=search_symbol'\n",
    "response = requests.get(url)\n",
    "response.status_code\n",
    "page_contents = response.text"
   ]
  },
  {
   "cell_type": "code",
   "execution_count": 11,
   "id": "a969634e",
   "metadata": {},
   "outputs": [
    {
     "name": "stdout",
     "output_type": "stream",
     "text": [
      "\n",
      "$\n",
      "147.94\n",
      "\n"
     ]
    }
   ],
   "source": [
    "import bs4\n",
    "from bs4 import BeautifulSoup\n",
    "soup=bs4.BeautifulSoup(page_contents, features=\"html.parser\")\n",
    "type(soup)\n",
    "divs = soup.find('div',{'class':\"column column--aside\"}).find('h2').text\n",
    "print(divs)"
   ]
  }
 ],
 "metadata": {
  "kernelspec": {
   "display_name": "Python 3 (ipykernel)",
   "language": "python",
   "name": "python3"
  },
  "language_info": {
   "codemirror_mode": {
    "name": "ipython",
    "version": 3
   },
   "file_extension": ".py",
   "mimetype": "text/x-python",
   "name": "python",
   "nbconvert_exporter": "python",
   "pygments_lexer": "ipython3",
   "version": "3.9.12"
  }
 },
 "nbformat": 4,
 "nbformat_minor": 5
}
